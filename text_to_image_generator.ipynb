{
  "nbformat": 4,
  "nbformat_minor": 0,
  "metadata": {
    "colab": {
      "provenance": []
    },
    "kernelspec": {
      "name": "python3",
      "display_name": "Python 3"
    },
    "language_info": {
      "name": "python"
    }
  },
  "cells": [
    {
      "cell_type": "code",
      "source": [
        "import http.client\n",
        "\n",
        "conn = http.client.HTTPSConnection(\"ai-text-to-image-generator-api.p.rapidapi.com\")\n"
      ],
      "metadata": {
        "id": "4yufPDQANTJa"
      },
      "execution_count": 1,
      "outputs": []
    },
    {
      "cell_type": "code",
      "execution_count": null,
      "metadata": {
        "id": "W2N3DbPkNRT0"
      },
      "outputs": [],
      "source": [
        "payload = \"{\\\"inputs\\\":\\\"Create a image to a girl play with dog\\\"}\"\n",
        "\n",
        "headers = {\n",
        "    'x-rapidapi-key': \"7da019fdedmsh52142d5494658bfp168f9bjsn6c1d365abe81\",\n",
        "    'x-rapidapi-host': \"ai-text-to-image-generator-api.p.rapidapi.com\",\n",
        "    'Content-Type': \"application/json\"\n",
        "}\n",
        "\n",
        "conn.request(\"POST\", \"/realistic\", payload, headers)\n",
        "\n",
        "res = conn.getresponse()\n",
        "data = res.read()\n",
        "\n",
        "print(data.decode(\"utf-8\"))"
      ]
    }
  ]
}